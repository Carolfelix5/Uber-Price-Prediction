{
 "cells": [
  {
   "cell_type": "markdown",
   "id": "a31dc274-ec4d-41c9-8efc-37b54724e416",
   "metadata": {},
   "source": [
    "# Uber Price Prediction\n",
    "\n",
    "The Uber dataset contains details about individual ride records, including information about where and when the ride occurred, the number of passengers, and the fare amount. \n",
    "\n",
    "### Features \n",
    "****Pickup Date and Time (pickup_datetime)****\n",
    "\n",
    "* Represents the date and time when the ride began.\n",
    "* Helps analyze patterns like peak hours, busy days, or seasonal variations in demand.\n",
    "\n",
    "****Pickup Location (pickup_longitude and pickup_latitude)****\n",
    "\n",
    "* Specifies the geographical coordinates (longitude and latitude) of the pickup location.\n",
    "* Useful for calculating the distance between the pickup and dropoff points.\n",
    "\n",
    "****Dropoff Location (dropoff_longitude and dropoff_latitude)****\n",
    "\n",
    "* Specifies the geographical coordinates (longitude and latitude) of the dropoff location.\n",
    "* Also used for calculating the distance traveled.\n",
    "\n",
    "****Passenger Count (passenger_count)****\n",
    "\n",
    "* Indicates the number of passengers in the ride.\n",
    "* Helps understand vehicle usage, such as carpooling or group travel.\n",
    "\n",
    "****Fare Amount (fare_amount)****\n",
    "\n",
    "* The total fare charged for the ride (in USD).\n",
    "* This is the key value we aim to predict in fare estimation models.\n",
    "\n",
    "### Note:\n",
    "****Geographical Coordinates:****\n",
    "* Latitude must be between -90 and 90, and longitude between -180 and 180. Any invalid entries are removed during data cleaning."
   ]
  },
  {
   "cell_type": "markdown",
   "id": "c66730e7-c672-4f98-b6cc-c51cc70ee60c",
   "metadata": {},
   "source": [
    "#### Import necessary libraries"
   ]
  },
  {
   "cell_type": "code",
   "execution_count": 1,
   "id": "acbe0dc7-7aea-4163-b062-6900fd479a32",
   "metadata": {},
   "outputs": [],
   "source": [
    "import numpy as np\n",
    "import matplotlib.pyplot as plt\n",
    "import seaborn as sns\n",
    "import pandas as pd\n",
    "import warnings\n",
    "warnings.filterwarnings(\"ignore\")"
   ]
  },
  {
   "cell_type": "markdown",
   "id": "21393d2b-0b90-4545-85a9-7f075f5547d3",
   "metadata": {},
   "source": [
    "****Read the data****"
   ]
  },
  {
   "cell_type": "code",
   "execution_count": 2,
   "id": "8f7a92aa-72a2-46af-9c4d-278dde4dda56",
   "metadata": {},
   "outputs": [],
   "source": [
    "data = pd.read_csv('uber.csv')"
   ]
  },
  {
   "cell_type": "code",
   "execution_count": 3,
   "id": "d88e6d11-890d-4d14-b7f0-e0ebddc8b10c",
   "metadata": {},
   "outputs": [
    {
     "data": {
      "text/html": [
       "<div>\n",
       "<style scoped>\n",
       "    .dataframe tbody tr th:only-of-type {\n",
       "        vertical-align: middle;\n",
       "    }\n",
       "\n",
       "    .dataframe tbody tr th {\n",
       "        vertical-align: top;\n",
       "    }\n",
       "\n",
       "    .dataframe thead th {\n",
       "        text-align: right;\n",
       "    }\n",
       "</style>\n",
       "<table border=\"1\" class=\"dataframe\">\n",
       "  <thead>\n",
       "    <tr style=\"text-align: right;\">\n",
       "      <th></th>\n",
       "      <th>Unnamed: 0</th>\n",
       "      <th>key</th>\n",
       "      <th>fare_amount</th>\n",
       "      <th>pickup_datetime</th>\n",
       "      <th>pickup_longitude</th>\n",
       "      <th>pickup_latitude</th>\n",
       "      <th>dropoff_longitude</th>\n",
       "      <th>dropoff_latitude</th>\n",
       "      <th>passenger_count</th>\n",
       "    </tr>\n",
       "  </thead>\n",
       "  <tbody>\n",
       "    <tr>\n",
       "      <th>0</th>\n",
       "      <td>24238194</td>\n",
       "      <td>52:06.0</td>\n",
       "      <td>7.5</td>\n",
       "      <td>2015-05-07 19:52:06 UTC</td>\n",
       "      <td>-73.999817</td>\n",
       "      <td>40.738354</td>\n",
       "      <td>-73.999512</td>\n",
       "      <td>40.723217</td>\n",
       "      <td>1</td>\n",
       "    </tr>\n",
       "    <tr>\n",
       "      <th>1</th>\n",
       "      <td>27835199</td>\n",
       "      <td>04:56.0</td>\n",
       "      <td>7.7</td>\n",
       "      <td>2009-07-17 20:04:56 UTC</td>\n",
       "      <td>-73.994355</td>\n",
       "      <td>40.728225</td>\n",
       "      <td>-73.994710</td>\n",
       "      <td>40.750325</td>\n",
       "      <td>1</td>\n",
       "    </tr>\n",
       "    <tr>\n",
       "      <th>2</th>\n",
       "      <td>44984355</td>\n",
       "      <td>45:00.0</td>\n",
       "      <td>12.9</td>\n",
       "      <td>2009-08-24 21:45:00 UTC</td>\n",
       "      <td>-74.005043</td>\n",
       "      <td>40.740770</td>\n",
       "      <td>-73.962565</td>\n",
       "      <td>40.772647</td>\n",
       "      <td>1</td>\n",
       "    </tr>\n",
       "    <tr>\n",
       "      <th>3</th>\n",
       "      <td>25894730</td>\n",
       "      <td>22:21.0</td>\n",
       "      <td>5.3</td>\n",
       "      <td>2009-06-26 08:22:21 UTC</td>\n",
       "      <td>-73.976124</td>\n",
       "      <td>40.790844</td>\n",
       "      <td>-73.965316</td>\n",
       "      <td>40.803349</td>\n",
       "      <td>3</td>\n",
       "    </tr>\n",
       "    <tr>\n",
       "      <th>4</th>\n",
       "      <td>17610152</td>\n",
       "      <td>47:00.0</td>\n",
       "      <td>16.0</td>\n",
       "      <td>2014-08-28 17:47:00 UTC</td>\n",
       "      <td>-73.925023</td>\n",
       "      <td>40.744085</td>\n",
       "      <td>-73.973082</td>\n",
       "      <td>40.761247</td>\n",
       "      <td>5</td>\n",
       "    </tr>\n",
       "  </tbody>\n",
       "</table>\n",
       "</div>"
      ],
      "text/plain": [
       "   Unnamed: 0      key  fare_amount          pickup_datetime  \\\n",
       "0    24238194  52:06.0          7.5  2015-05-07 19:52:06 UTC   \n",
       "1    27835199  04:56.0          7.7  2009-07-17 20:04:56 UTC   \n",
       "2    44984355  45:00.0         12.9  2009-08-24 21:45:00 UTC   \n",
       "3    25894730  22:21.0          5.3  2009-06-26 08:22:21 UTC   \n",
       "4    17610152  47:00.0         16.0  2014-08-28 17:47:00 UTC   \n",
       "\n",
       "   pickup_longitude  pickup_latitude  dropoff_longitude  dropoff_latitude  \\\n",
       "0        -73.999817        40.738354         -73.999512         40.723217   \n",
       "1        -73.994355        40.728225         -73.994710         40.750325   \n",
       "2        -74.005043        40.740770         -73.962565         40.772647   \n",
       "3        -73.976124        40.790844         -73.965316         40.803349   \n",
       "4        -73.925023        40.744085         -73.973082         40.761247   \n",
       "\n",
       "   passenger_count  \n",
       "0                1  \n",
       "1                1  \n",
       "2                1  \n",
       "3                3  \n",
       "4                5  "
      ]
     },
     "execution_count": 3,
     "metadata": {},
     "output_type": "execute_result"
    }
   ],
   "source": [
    "data.head()"
   ]
  },
  {
   "cell_type": "code",
   "execution_count": 4,
   "id": "c04fa9d5-b0e9-401d-8e18-2dde6053dc6c",
   "metadata": {},
   "outputs": [
    {
     "name": "stdout",
     "output_type": "stream",
     "text": [
      "<class 'pandas.core.frame.DataFrame'>\n",
      "RangeIndex: 200000 entries, 0 to 199999\n",
      "Data columns (total 9 columns):\n",
      " #   Column             Non-Null Count   Dtype  \n",
      "---  ------             --------------   -----  \n",
      " 0   Unnamed: 0         200000 non-null  int64  \n",
      " 1   key                200000 non-null  object \n",
      " 2   fare_amount        200000 non-null  float64\n",
      " 3   pickup_datetime    200000 non-null  object \n",
      " 4   pickup_longitude   200000 non-null  float64\n",
      " 5   pickup_latitude    200000 non-null  float64\n",
      " 6   dropoff_longitude  199999 non-null  float64\n",
      " 7   dropoff_latitude   199999 non-null  float64\n",
      " 8   passenger_count    200000 non-null  int64  \n",
      "dtypes: float64(5), int64(2), object(2)\n",
      "memory usage: 13.7+ MB\n"
     ]
    }
   ],
   "source": [
    "data.info()"
   ]
  },
  {
   "cell_type": "markdown",
   "id": "8125d41b-01b2-487b-b512-44f86d1634d4",
   "metadata": {},
   "source": [
    "****Drop unneccesary columns****"
   ]
  },
  {
   "cell_type": "code",
   "execution_count": 5,
   "id": "4176ae79-7258-4822-8498-e1b12a59de08",
   "metadata": {},
   "outputs": [],
   "source": [
    "uber_data = data.drop(columns = ['Unnamed: 0','key'])"
   ]
  },
  {
   "cell_type": "markdown",
   "id": "104d3f69-f8b4-42cb-aed6-60cd8bf06511",
   "metadata": {},
   "source": [
    "****Drop Null values****"
   ]
  },
  {
   "cell_type": "code",
   "execution_count": 6,
   "id": "dbdc5b2b-d221-4c83-b708-e143892bda4c",
   "metadata": {},
   "outputs": [],
   "source": [
    "uber_data = uber_data.dropna()"
   ]
  },
  {
   "cell_type": "markdown",
   "id": "a8adf41b-cbaf-43f1-9bd0-959d0fd1c097",
   "metadata": {},
   "source": [
    "****Convert to Datetime****"
   ]
  },
  {
   "cell_type": "code",
   "execution_count": 7,
   "id": "82280583-b247-4fe8-8d4b-bee76d6bb1ed",
   "metadata": {},
   "outputs": [],
   "source": [
    "uber_data['pickup_datetime'] = pd.to_datetime(uber_data['pickup_datetime'])"
   ]
  },
  {
   "cell_type": "code",
   "execution_count": 8,
   "id": "e3a1049d-c5c1-4786-a298-5c8c23e09add",
   "metadata": {},
   "outputs": [],
   "source": [
    "#pip install geopy"
   ]
  },
  {
   "cell_type": "markdown",
   "id": "1f4f951e-3032-4873-a2fc-90c443a1ff95",
   "metadata": {},
   "source": [
    "****Geopy is used to locate the coordinates of addresses, cities, countries, and landmarks across the globe using third-party geocoders and other data sources.****"
   ]
  },
  {
   "cell_type": "markdown",
   "id": "16ad4d6c-7b45-42fe-8569-a025e1f9e1ec",
   "metadata": {},
   "source": [
    "****Geopy can calculate geodesic distance between two points using the geodesic distance****"
   ]
  },
  {
   "cell_type": "code",
   "execution_count": 9,
   "id": "7ddfb71e-c10a-477a-80af-5e6580180412",
   "metadata": {},
   "outputs": [],
   "source": [
    "from geopy.distance import geodesic\n",
    "\n",
    "def calculate_distance(lat):\n",
    "    start = (lat['pickup_latitude'], lat['pickup_longitude'])\n",
    "    end = (lat['dropoff_latitude'], lat['dropoff_longitude'])\n",
    "    return geodesic(start, end).km"
   ]
  },
  {
   "cell_type": "markdown",
   "id": "26914e84-a9b2-475c-853c-3affcab464c5",
   "metadata": {},
   "source": [
    "****Cleaned the dataset by ensuring that the latitude and longitude values  fall within valid geographical ranges.****\n",
    "\n",
    "* Latitude must be between -90 and 90\n",
    "* Longitude between -180 and 180"
   ]
  },
  {
   "cell_type": "code",
   "execution_count": 13,
   "id": "a9f4293e-4e6c-4c4d-b02b-0533bf579526",
   "metadata": {},
   "outputs": [],
   "source": [
    "uber_data_cleaned = uber_data[\n",
    "    (uber_data['pickup_latitude'] >= -90) & (uber_data['pickup_latitude'] <= 90) &\n",
    "    (uber_data['pickup_longitude'] >= -180) & (uber_data['pickup_longitude'] <= 180) &\n",
    "    (uber_data['dropoff_latitude'] >= -90) & (uber_data['dropoff_latitude'] <= 90) &\n",
    "    (uber_data['dropoff_longitude'] >= -180) & (uber_data['dropoff_longitude'] <= 180)\n",
    "]\n"
   ]
  },
  {
   "cell_type": "code",
   "execution_count": 14,
   "id": "61b1b0ea-446a-4c94-a5f0-45046e4e9226",
   "metadata": {},
   "outputs": [
    {
     "name": "stdout",
     "output_type": "stream",
     "text": [
      "<class 'pandas.core.frame.DataFrame'>\n",
      "Index: 199987 entries, 0 to 199999\n",
      "Data columns (total 7 columns):\n",
      " #   Column             Non-Null Count   Dtype              \n",
      "---  ------             --------------   -----              \n",
      " 0   fare_amount        199987 non-null  float64            \n",
      " 1   pickup_datetime    199987 non-null  datetime64[ns, UTC]\n",
      " 2   pickup_longitude   199987 non-null  float64            \n",
      " 3   pickup_latitude    199987 non-null  float64            \n",
      " 4   dropoff_longitude  199987 non-null  float64            \n",
      " 5   dropoff_latitude   199987 non-null  float64            \n",
      " 6   passenger_count    199987 non-null  int64              \n",
      "dtypes: datetime64[ns, UTC](1), float64(5), int64(1)\n",
      "memory usage: 12.2 MB\n"
     ]
    }
   ],
   "source": [
    " uber_data_cleaned.info()"
   ]
  },
  {
   "cell_type": "code",
   "execution_count": 15,
   "id": "245ffd15-e2c2-4f93-8c2a-0be43891fe90",
   "metadata": {},
   "outputs": [],
   "source": [
    "uber_data_cleaned['distance_km'] = uber_data_cleaned.apply(calculate_distance, axis=1)"
   ]
  },
  {
   "cell_type": "markdown",
   "id": "b79dc58b-52e6-4652-91da-de057998354e",
   "metadata": {},
   "source": [
    "****Filtered out days and hours from pickup_datetime column****"
   ]
  },
  {
   "cell_type": "code",
   "execution_count": 16,
   "id": "6cc40b6b-1540-470c-bc37-09d4b6646373",
   "metadata": {},
   "outputs": [],
   "source": [
    "uber_data_cleaned['pickup_hour'] = uber_data_cleaned['pickup_datetime'].dt.hour\n",
    "uber_data_cleaned['day_of_week'] = uber_data_cleaned['pickup_datetime'].dt.dayofweek"
   ]
  },
  {
   "cell_type": "code",
   "execution_count": 17,
   "id": "f2f3958f-3036-4483-b80a-52b6a717bfec",
   "metadata": {},
   "outputs": [],
   "source": [
    "uber_data_cleaned = uber_data_cleaned.drop(columns=['pickup_datetime'])"
   ]
  },
  {
   "cell_type": "code",
   "execution_count": 18,
   "id": "e49564f9-b936-4599-8409-c12860cfa5e5",
   "metadata": {},
   "outputs": [
    {
     "name": "stdout",
     "output_type": "stream",
     "text": [
      "<class 'pandas.core.frame.DataFrame'>\n",
      "Index: 199987 entries, 0 to 199999\n",
      "Data columns (total 9 columns):\n",
      " #   Column             Non-Null Count   Dtype  \n",
      "---  ------             --------------   -----  \n",
      " 0   fare_amount        199987 non-null  float64\n",
      " 1   pickup_longitude   199987 non-null  float64\n",
      " 2   pickup_latitude    199987 non-null  float64\n",
      " 3   dropoff_longitude  199987 non-null  float64\n",
      " 4   dropoff_latitude   199987 non-null  float64\n",
      " 5   passenger_count    199987 non-null  int64  \n",
      " 6   distance_km        199987 non-null  float64\n",
      " 7   pickup_hour        199987 non-null  int32  \n",
      " 8   day_of_week        199987 non-null  int32  \n",
      "dtypes: float64(6), int32(2), int64(1)\n",
      "memory usage: 13.7 MB\n"
     ]
    }
   ],
   "source": [
    "uber_data_cleaned.info()"
   ]
  },
  {
   "cell_type": "code",
   "execution_count": 19,
   "id": "3e7450b3-2453-46fb-af5f-d029a8d05e89",
   "metadata": {},
   "outputs": [
    {
     "data": {
      "text/html": [
       "<div>\n",
       "<style scoped>\n",
       "    .dataframe tbody tr th:only-of-type {\n",
       "        vertical-align: middle;\n",
       "    }\n",
       "\n",
       "    .dataframe tbody tr th {\n",
       "        vertical-align: top;\n",
       "    }\n",
       "\n",
       "    .dataframe thead th {\n",
       "        text-align: right;\n",
       "    }\n",
       "</style>\n",
       "<table border=\"1\" class=\"dataframe\">\n",
       "  <thead>\n",
       "    <tr style=\"text-align: right;\">\n",
       "      <th></th>\n",
       "      <th>fare_amount</th>\n",
       "      <th>pickup_longitude</th>\n",
       "      <th>pickup_latitude</th>\n",
       "      <th>dropoff_longitude</th>\n",
       "      <th>dropoff_latitude</th>\n",
       "      <th>passenger_count</th>\n",
       "      <th>distance_km</th>\n",
       "      <th>pickup_hour</th>\n",
       "      <th>day_of_week</th>\n",
       "    </tr>\n",
       "  </thead>\n",
       "  <tbody>\n",
       "    <tr>\n",
       "      <th>0</th>\n",
       "      <td>7.5</td>\n",
       "      <td>-73.999817</td>\n",
       "      <td>40.738354</td>\n",
       "      <td>-73.999512</td>\n",
       "      <td>40.723217</td>\n",
       "      <td>1</td>\n",
       "      <td>1.681111</td>\n",
       "      <td>19</td>\n",
       "      <td>3</td>\n",
       "    </tr>\n",
       "    <tr>\n",
       "      <th>1</th>\n",
       "      <td>7.7</td>\n",
       "      <td>-73.994355</td>\n",
       "      <td>40.728225</td>\n",
       "      <td>-73.994710</td>\n",
       "      <td>40.750325</td>\n",
       "      <td>1</td>\n",
       "      <td>2.454363</td>\n",
       "      <td>20</td>\n",
       "      <td>4</td>\n",
       "    </tr>\n",
       "    <tr>\n",
       "      <th>2</th>\n",
       "      <td>12.9</td>\n",
       "      <td>-74.005043</td>\n",
       "      <td>40.740770</td>\n",
       "      <td>-73.962565</td>\n",
       "      <td>40.772647</td>\n",
       "      <td>1</td>\n",
       "      <td>5.039603</td>\n",
       "      <td>21</td>\n",
       "      <td>0</td>\n",
       "    </tr>\n",
       "    <tr>\n",
       "      <th>3</th>\n",
       "      <td>5.3</td>\n",
       "      <td>-73.976124</td>\n",
       "      <td>40.790844</td>\n",
       "      <td>-73.965316</td>\n",
       "      <td>40.803349</td>\n",
       "      <td>3</td>\n",
       "      <td>1.661442</td>\n",
       "      <td>8</td>\n",
       "      <td>4</td>\n",
       "    </tr>\n",
       "    <tr>\n",
       "      <th>4</th>\n",
       "      <td>16.0</td>\n",
       "      <td>-73.925023</td>\n",
       "      <td>40.744085</td>\n",
       "      <td>-73.973082</td>\n",
       "      <td>40.761247</td>\n",
       "      <td>5</td>\n",
       "      <td>4.483730</td>\n",
       "      <td>17</td>\n",
       "      <td>3</td>\n",
       "    </tr>\n",
       "  </tbody>\n",
       "</table>\n",
       "</div>"
      ],
      "text/plain": [
       "   fare_amount  pickup_longitude  pickup_latitude  dropoff_longitude  \\\n",
       "0          7.5        -73.999817        40.738354         -73.999512   \n",
       "1          7.7        -73.994355        40.728225         -73.994710   \n",
       "2         12.9        -74.005043        40.740770         -73.962565   \n",
       "3          5.3        -73.976124        40.790844         -73.965316   \n",
       "4         16.0        -73.925023        40.744085         -73.973082   \n",
       "\n",
       "   dropoff_latitude  passenger_count  distance_km  pickup_hour  day_of_week  \n",
       "0         40.723217                1     1.681111           19            3  \n",
       "1         40.750325                1     2.454363           20            4  \n",
       "2         40.772647                1     5.039603           21            0  \n",
       "3         40.803349                3     1.661442            8            4  \n",
       "4         40.761247                5     4.483730           17            3  "
      ]
     },
     "execution_count": 19,
     "metadata": {},
     "output_type": "execute_result"
    }
   ],
   "source": [
    "uber_data_cleaned.head()"
   ]
  },
  {
   "cell_type": "markdown",
   "id": "6c7807d1-dfa2-4136-b94c-8ccd7a1480b9",
   "metadata": {},
   "source": [
    "#### Visualization\n",
    "\n",
    "****Fare amount distribution****"
   ]
  },
  {
   "cell_type": "code",
   "execution_count": 20,
   "id": "ade21c37-5d13-4db8-8e13-a8af1409b19a",
   "metadata": {},
   "outputs": [
    {
     "data": {
      "image/png": "[encoded data removed]",
      "text/plain": [
       "<Figure size 640x480 with 1 Axes>"
      ]
     },
     "metadata": {},
     "output_type": "display_data"
    }
   ],
   "source": [
    "sns.histplot(uber_data_cleaned['fare_amount'],bins = 30, kde = True)\n",
    "plt.title(\"Fare Amount Distribution\")\n",
    "plt.xlabel(\"Fare\")\n",
    "plt.ylabel(\"Frequency\")\n",
    "plt.show()"
   ]
  },
  {
   "cell_type": "markdown",
   "id": "45805f3e-f07b-4b93-89aa-b34d2acd2486",
   "metadata": {},
   "source": [
    "****Distance vs Fare****"
   ]
  },
  {
   "cell_type": "code",
   "execution_count": 21,
   "id": "1d3222e9-0d34-46f8-98ed-341d5bb439d0",
   "metadata": {},
   "outputs": [
    {
     "data": {
      "image/png": "[encoded data removed]",
      "text/plain": [
       "<Figure size 640x480 with 1 Axes>"
      ]
     },
     "metadata": {},
     "output_type": "display_data"
    }
   ],
   "source": [
    "sns.scatterplot(data = uber_data_cleaned, x = 'distance_km', y = 'fare_amount', color = 'red')\n",
    "plt.title('Distance vs Fare')\n",
    "plt.xlabel('Distance')\n",
    "plt.ylabel('Fare')\n",
    "plt.show()"
   ]
  },
  {
   "cell_type": "markdown",
   "id": "694c0bb9-a0a4-4c77-a032-e0b4dfc964aa",
   "metadata": {},
   "source": [
    "****Heatmap of the correlation matrix****"
   ]
  },
  {
   "cell_type": "code",
   "execution_count": 22,
   "id": "63ade534-0ad0-4a3d-aa09-440c64b67684",
   "metadata": {},
   "outputs": [],
   "source": [
    "corr_matrix = uber_data_cleaned.corr()"
   ]
  },
  {
   "cell_type": "code",
   "execution_count": 23,
   "id": "12880fb4-37aa-4640-955b-e8118f59a143",
   "metadata": {},
   "outputs": [
    {
     "data": {
      "text/plain": [
       "<Axes: >"
      ]
     },
     "execution_count": 23,
     "metadata": {},
     "output_type": "execute_result"
    },
    {
     "data": {
      "image/png": "[encoded data removed]",
      "text/plain": [
       "<Figure size 640x480 with 2 Axes>"
      ]
     },
     "metadata": {},
     "output_type": "display_data"
    }
   ],
   "source": [
    "sns.heatmap(corr_matrix,annot = True, cmap = 'mako')"
   ]
  },
  {
   "cell_type": "code",
   "execution_count": 24,
   "id": "6df84d46-c283-49b1-b698-fb11e7a92613",
   "metadata": {},
   "outputs": [
    {
     "name": "stdout",
     "output_type": "stream",
     "text": [
      "fare_amount          0\n",
      "pickup_longitude     0\n",
      "pickup_latitude      0\n",
      "dropoff_longitude    0\n",
      "dropoff_latitude     0\n",
      "passenger_count      0\n",
      "distance_km          0\n",
      "pickup_hour          0\n",
      "day_of_week          0\n",
      "dtype: int64\n"
     ]
    }
   ],
   "source": [
    "print(uber_data_cleaned.isnull().sum())"
   ]
  },
  {
   "cell_type": "markdown",
   "id": "377f0659-dfa1-4c76-872a-5d033e9f2ddd",
   "metadata": {},
   "source": [
    "#### Split the dataset into input and Target variables(X and y)"
   ]
  },
  {
   "cell_type": "code",
   "execution_count": 161,
   "id": "d5c8d76e-e251-43e3-9b40-2c563a8f1193",
   "metadata": {},
   "outputs": [],
   "source": [
    "X = uber_data_cleaned[['passenger_count', 'distance_km', 'pickup_hour', 'day_of_week']]\n",
    "y = uber_data_cleaned['fare_amount']"
   ]
  },
  {
   "cell_type": "code",
   "execution_count": 163,
   "id": "7bc790e7-a85a-42ea-8f09-72c11efb1f56",
   "metadata": {},
   "outputs": [
    {
     "name": "stdout",
     "output_type": "stream",
     "text": [
      "(199987, 4)\n",
      "(199987,)\n"
     ]
    }
   ],
   "source": [
    "print(X.shape)\n",
    "print(y.shape)"
   ]
  },
  {
   "cell_type": "markdown",
   "id": "7a5c3d0a-dc4a-44b9-be79-c60f7426c912",
   "metadata": {},
   "source": [
    "#### Split the data into training and testing set"
   ]
  },
  {
   "cell_type": "code",
   "execution_count": 165,
   "id": "5b29e6fe-f8de-4da6-83b7-13c0151ecc04",
   "metadata": {},
   "outputs": [],
   "source": [
    "from sklearn.model_selection import train_test_split\n",
    "X_train, X_test, y_train, y_test = train_test_split(X, y, test_size=0.3, random_state=100)"
   ]
  },
  {
   "cell_type": "code",
   "execution_count": 167,
   "id": "6ae20f3e-267c-4981-8dd0-ed36a6511bc6",
   "metadata": {},
   "outputs": [
    {
     "name": "stdout",
     "output_type": "stream",
     "text": [
      "(139990, 4)\n",
      "(59997, 4)\n"
     ]
    }
   ],
   "source": [
    "print(X_train.shape)\n",
    "print(X_test.shape)"
   ]
  },
  {
   "cell_type": "code",
   "execution_count": 169,
   "id": "c6b6bae7-dc44-4f9d-86a7-e24cd25426ef",
   "metadata": {},
   "outputs": [
    {
     "name": "stdout",
     "output_type": "stream",
     "text": [
      "(139990,)\n",
      "(59997,)\n"
     ]
    }
   ],
   "source": [
    "print(y_train.shape)\n",
    "print(y_test.shape)"
   ]
  },
  {
   "cell_type": "markdown",
   "id": "e3c81534-5463-4d5a-a1b9-7ee031920733",
   "metadata": {},
   "source": [
    "#### Training Data with Linear Regression model"
   ]
  },
  {
   "cell_type": "code",
   "execution_count": 171,
   "id": "cc25593b-c089-4d16-8be5-14d55a2e37ac",
   "metadata": {},
   "outputs": [],
   "source": [
    "from sklearn.linear_model import LinearRegression"
   ]
  },
  {
   "cell_type": "code",
   "execution_count": 173,
   "id": "16a5fa01-1955-4755-9571-59cfccae0238",
   "metadata": {},
   "outputs": [],
   "source": [
    "lr = LinearRegression()"
   ]
  },
  {
   "cell_type": "code",
   "execution_count": 175,
   "id": "5dd20152-27b3-4cba-b89e-ac6af1e3ae4d",
   "metadata": {},
   "outputs": [
    {
     "data": {
      "text/html": [
       "<style>#sk-container-id-2 {\n",
       "  /* Definition of color scheme common for light and dark mode */\n",
       "  --sklearn-color-text: black;\n",
       "  --sklearn-color-line: gray;\n",
       "  /* Definition of color scheme for unfitted estimators */\n",
       "  --sklearn-color-unfitted-level-0: #fff5e6;\n",
       "  --sklearn-color-unfitted-level-1: #f6e4d2;\n",
       "  --sklearn-color-unfitted-level-2: #ffe0b3;\n",
       "  --sklearn-color-unfitted-level-3: chocolate;\n",
       "  /* Definition of color scheme for fitted estimators */\n",
       "  --sklearn-color-fitted-level-0: #f0f8ff;\n",
       "  --sklearn-color-fitted-level-1: #d4ebff;\n",
       "  --sklearn-color-fitted-level-2: #b3dbfd;\n",
       "  --sklearn-color-fitted-level-3: cornflowerblue;\n",
       "\n",
       "  /* Specific color for light theme */\n",
       "  --sklearn-color-text-on-default-background: var(--sg-text-color, var(--theme-code-foreground, var(--jp-content-font-color1, black)));\n",
       "  --sklearn-color-background: var(--sg-background-color, var(--theme-background, var(--jp-layout-color0, white)));\n",
       "  --sklearn-color-border-box: var(--sg-text-color, var(--theme-code-foreground, var(--jp-content-font-color1, black)));\n",
       "  --sklearn-color-icon: #696969;\n",
       "\n",
       "  @media (prefers-color-scheme: dark) {\n",
       "    /* Redefinition of color scheme for dark theme */\n",
       "    --sklearn-color-text-on-default-background: var(--sg-text-color, var(--theme-code-foreground, var(--jp-content-font-color1, white)));\n",
       "    --sklearn-color-background: var(--sg-background-color, var(--theme-background, var(--jp-layout-color0, #111)));\n",
       "    --sklearn-color-border-box: var(--sg-text-color, var(--theme-code-foreground, var(--jp-content-font-color1, white)));\n",
       "    --sklearn-color-icon: #878787;\n",
       "  }\n",
       "}\n",
       "\n",
       "#sk-container-id-2 {\n",
       "  color: var(--sklearn-color-text);\n",
       "}\n",
       "\n",
       "#sk-container-id-2 pre {\n",
       "  padding: 0;\n",
       "}\n",
       "\n",
       "#sk-container-id-2 input.sk-hidden--visually {\n",
       "  border: 0;\n",
       "  clip: rect(1px 1px 1px 1px);\n",
       "  clip: rect(1px, 1px, 1px, 1px);\n",
       "  height: 1px;\n",
       "  margin: -1px;\n",
       "  overflow: hidden;\n",
       "  padding: 0;\n",
       "  position: absolute;\n",
       "  width: 1px;\n",
       "}\n",
       "\n",
       "#sk-container-id-2 div.sk-dashed-wrapped {\n",
       "  border: 1px dashed var(--sklearn-color-line);\n",
       "  margin: 0 0.4em 0.5em 0.4em;\n",
       "  box-sizing: border-box;\n",
       "  padding-bottom: 0.4em;\n",
       "  background-color: var(--sklearn-color-background);\n",
       "}\n",
       "\n",
       "#sk-container-id-2 div.sk-container {\n",
       "  /* jupyter's `normalize.less` sets `[hidden] { display: none; }`\n",
       "     but bootstrap.min.css set `[hidden] { display: none !important; }`\n",
       "     so we also need the `!important` here to be able to override the\n",
       "     default hidden behavior on the sphinx rendered scikit-learn.org.\n",
       "     See: https://github.com/scikit-learn/scikit-learn/issues/21755 */\n",
       "  display: inline-block !important;\n",
       "  position: relative;\n",
       "}\n",
       "\n",
       "#sk-container-id-2 div.sk-text-repr-fallback {\n",
       "  display: none;\n",
       "}\n",
       "\n",
       "div.sk-parallel-item,\n",
       "div.sk-serial,\n",
       "div.sk-item {\n",
       "  /* draw centered vertical line to link estimators */\n",
       "  background-image: linear-gradient(var(--sklearn-color-text-on-default-background), var(--sklearn-color-text-on-default-background));\n",
       "  background-size: 2px 100%;\n",
       "  background-repeat: no-repeat;\n",
       "  background-position: center center;\n",
       "}\n",
       "\n",
       "/* Parallel-specific style estimator block */\n",
       "\n",
       "#sk-container-id-2 div.sk-parallel-item::after {\n",
       "  content: \"\";\n",
       "  width: 100%;\n",
       "  border-bottom: 2px solid var(--sklearn-color-text-on-default-background);\n",
       "  flex-grow: 1;\n",
       "}\n",
       "\n",
       "#sk-container-id-2 div.sk-parallel {\n",
       "  display: flex;\n",
       "  align-items: stretch;\n",
       "  justify-content: center;\n",
       "  background-color: var(--sklearn-color-background);\n",
       "  position: relative;\n",
       "}\n",
       "\n",
       "#sk-container-id-2 div.sk-parallel-item {\n",
       "  display: flex;\n",
       "  flex-direction: column;\n",
       "}\n",
       "\n",
       "#sk-container-id-2 div.sk-parallel-item:first-child::after {\n",
       "  align-self: flex-end;\n",
       "  width: 50%;\n",
       "}\n",
       "\n",
       "#sk-container-id-2 div.sk-parallel-item:last-child::after {\n",
       "  align-self: flex-start;\n",
       "  width: 50%;\n",
       "}\n",
       "\n",
       "#sk-container-id-2 div.sk-parallel-item:only-child::after {\n",
       "  width: 0;\n",
       "}\n",
       "\n",
       "/* Serial-specific style estimator block */\n",
       "\n",
       "#sk-container-id-2 div.sk-serial {\n",
       "  display: flex;\n",
       "  flex-direction: column;\n",
       "  align-items: center;\n",
       "  background-color: var(--sklearn-color-background);\n",
       "  padding-right: 1em;\n",
       "  padding-left: 1em;\n",
       "}\n",
       "\n",
       "\n",
       "/* Toggleable style: style used for estimator/Pipeline/ColumnTransformer box that is\n",
       "clickable and can be expanded/collapsed.\n",
       "- Pipeline and ColumnTransformer use this feature and define the default style\n",
       "- Estimators will overwrite some part of the style using the `sk-estimator` class\n",
       "*/\n",
       "\n",
       "/* Pipeline and ColumnTransformer style (default) */\n",
       "\n",
       "#sk-container-id-2 div.sk-toggleable {\n",
       "  /* Default theme specific background. It is overwritten whether we have a\n",
       "  specific estimator or a Pipeline/ColumnTransformer */\n",
       "  background-color: var(--sklearn-color-background);\n",
       "}\n",
       "\n",
       "/* Toggleable label */\n",
       "#sk-container-id-2 label.sk-toggleable__label {\n",
       "  cursor: pointer;\n",
       "  display: block;\n",
       "  width: 100%;\n",
       "  margin-bottom: 0;\n",
       "  padding: 0.5em;\n",
       "  box-sizing: border-box;\n",
       "  text-align: center;\n",
       "}\n",
       "\n",
       "#sk-container-id-2 label.sk-toggleable__label-arrow:before {\n",
       "  /* Arrow on the left of the label */\n",
       "  content: \"▸\";\n",
       "  float: left;\n",
       "  margin-right: 0.25em;\n",
       "  color: var(--sklearn-color-icon);\n",
       "}\n",
       "\n",
       "#sk-container-id-2 label.sk-toggleable__label-arrow:hover:before {\n",
       "  color: var(--sklearn-color-text);\n",
       "}\n",
       "\n",
       "/* Toggleable content - dropdown */\n",
       "\n",
       "#sk-container-id-2 div.sk-toggleable__content {\n",
       "  max-height: 0;\n",
       "  max-width: 0;\n",
       "  overflow: hidden;\n",
       "  text-align: left;\n",
       "  /* unfitted */\n",
       "  background-color: var(--sklearn-color-unfitted-level-0);\n",
       "}\n",
       "\n",
       "#sk-container-id-2 div.sk-toggleable__content.fitted {\n",
       "  /* fitted */\n",
       "  background-color: var(--sklearn-color-fitted-level-0);\n",
       "}\n",
       "\n",
       "#sk-container-id-2 div.sk-toggleable__content pre {\n",
       "  margin: 0.2em;\n",
       "  border-radius: 0.25em;\n",
       "  color: var(--sklearn-color-text);\n",
       "  /* unfitted */\n",
       "  background-color: var(--sklearn-color-unfitted-level-0);\n",
       "}\n",
       "\n",
       "#sk-container-id-2 div.sk-toggleable__content.fitted pre {\n",
       "  /* unfitted */\n",
       "  background-color: var(--sklearn-color-fitted-level-0);\n",
       "}\n",
       "\n",
       "#sk-container-id-2 input.sk-toggleable__control:checked~div.sk-toggleable__content {\n",
       "  /* Expand drop-down */\n",
       "  max-height: 200px;\n",
       "  max-width: 100%;\n",
       "  overflow: auto;\n",
       "}\n",
       "\n",
       "#sk-container-id-2 input.sk-toggleable__control:checked~label.sk-toggleable__label-arrow:before {\n",
       "  content: \"▾\";\n",
       "}\n",
       "\n",
       "/* Pipeline/ColumnTransformer-specific style */\n",
       "\n",
       "#sk-container-id-2 div.sk-label input.sk-toggleable__control:checked~label.sk-toggleable__label {\n",
       "  color: var(--sklearn-color-text);\n",
       "  background-color: var(--sklearn-color-unfitted-level-2);\n",
       "}\n",
       "\n",
       "#sk-container-id-2 div.sk-label.fitted input.sk-toggleable__control:checked~label.sk-toggleable__label {\n",
       "  background-color: var(--sklearn-color-fitted-level-2);\n",
       "}\n",
       "\n",
       "/* Estimator-specific style */\n",
       "\n",
       "/* Colorize estimator box */\n",
       "#sk-container-id-2 div.sk-estimator input.sk-toggleable__control:checked~label.sk-toggleable__label {\n",
       "  /* unfitted */\n",
       "  background-color: var(--sklearn-color-unfitted-level-2);\n",
       "}\n",
       "\n",
       "#sk-container-id-2 div.sk-estimator.fitted input.sk-toggleable__control:checked~label.sk-toggleable__label {\n",
       "  /* fitted */\n",
       "  background-color: var(--sklearn-color-fitted-level-2);\n",
       "}\n",
       "\n",
       "#sk-container-id-2 div.sk-label label.sk-toggleable__label,\n",
       "#sk-container-id-2 div.sk-label label {\n",
       "  /* The background is the default theme color */\n",
       "  color: var(--sklearn-color-text-on-default-background);\n",
       "}\n",
       "\n",
       "/* On hover, darken the color of the background */\n",
       "#sk-container-id-2 div.sk-label:hover label.sk-toggleable__label {\n",
       "  color: var(--sklearn-color-text);\n",
       "  background-color: var(--sklearn-color-unfitted-level-2);\n",
       "}\n",
       "\n",
       "/* Label box, darken color on hover, fitted */\n",
       "#sk-container-id-2 div.sk-label.fitted:hover label.sk-toggleable__label.fitted {\n",
       "  color: var(--sklearn-color-text);\n",
       "  background-color: var(--sklearn-color-fitted-level-2);\n",
       "}\n",
       "\n",
       "/* Estimator label */\n",
       "\n",
       "#sk-container-id-2 div.sk-label label {\n",
       "  font-family: monospace;\n",
       "  font-weight: bold;\n",
       "  display: inline-block;\n",
       "  line-height: 1.2em;\n",
       "}\n",
       "\n",
       "#sk-container-id-2 div.sk-label-container {\n",
       "  text-align: center;\n",
       "}\n",
       "\n",
       "/* Estimator-specific */\n",
       "#sk-container-id-2 div.sk-estimator {\n",
       "  font-family: monospace;\n",
       "  border: 1px dotted var(--sklearn-color-border-box);\n",
       "  border-radius: 0.25em;\n",
       "  box-sizing: border-box;\n",
       "  margin-bottom: 0.5em;\n",
       "  /* unfitted */\n",
       "  background-color: var(--sklearn-color-unfitted-level-0);\n",
       "}\n",
       "\n",
       "#sk-container-id-2 div.sk-estimator.fitted {\n",
       "  /* fitted */\n",
       "  background-color: var(--sklearn-color-fitted-level-0);\n",
       "}\n",
       "\n",
       "/* on hover */\n",
       "#sk-container-id-2 div.sk-estimator:hover {\n",
       "  /* unfitted */\n",
       "  background-color: var(--sklearn-color-unfitted-level-2);\n",
       "}\n",
       "\n",
       "#sk-container-id-2 div.sk-estimator.fitted:hover {\n",
       "  /* fitted */\n",
       "  background-color: var(--sklearn-color-fitted-level-2);\n",
       "}\n",
       "\n",
       "/* Specification for estimator info (e.g. \"i\" and \"?\") */\n",
       "\n",
       "/* Common style for \"i\" and \"?\" */\n",
       "\n",
       ".sk-estimator-doc-link,\n",
       "a:link.sk-estimator-doc-link,\n",
       "a:visited.sk-estimator-doc-link {\n",
       "  float: right;\n",
       "  font-size: smaller;\n",
       "  line-height: 1em;\n",
       "  font-family: monospace;\n",
       "  background-color: var(--sklearn-color-background);\n",
       "  border-radius: 1em;\n",
       "  height: 1em;\n",
       "  width: 1em;\n",
       "  text-decoration: none !important;\n",
       "  margin-left: 1ex;\n",
       "  /* unfitted */\n",
       "  border: var(--sklearn-color-unfitted-level-1) 1pt solid;\n",
       "  color: var(--sklearn-color-unfitted-level-1);\n",
       "}\n",
       "\n",
       ".sk-estimator-doc-link.fitted,\n",
       "a:link.sk-estimator-doc-link.fitted,\n",
       "a:visited.sk-estimator-doc-link.fitted {\n",
       "  /* fitted */\n",
       "  border: var(--sklearn-color-fitted-level-1) 1pt solid;\n",
       "  color: var(--sklearn-color-fitted-level-1);\n",
       "}\n",
       "\n",
       "/* On hover */\n",
       "div.sk-estimator:hover .sk-estimator-doc-link:hover,\n",
       ".sk-estimator-doc-link:hover,\n",
       "div.sk-label-container:hover .sk-estimator-doc-link:hover,\n",
       ".sk-estimator-doc-link:hover {\n",
       "  /* unfitted */\n",
       "  background-color: var(--sklearn-color-unfitted-level-3);\n",
       "  color: var(--sklearn-color-background);\n",
       "  text-decoration: none;\n",
       "}\n",
       "\n",
       "div.sk-estimator.fitted:hover .sk-estimator-doc-link.fitted:hover,\n",
       ".sk-estimator-doc-link.fitted:hover,\n",
       "div.sk-label-container:hover .sk-estimator-doc-link.fitted:hover,\n",
       ".sk-estimator-doc-link.fitted:hover {\n",
       "  /* fitted */\n",
       "  background-color: var(--sklearn-color-fitted-level-3);\n",
       "  color: var(--sklearn-color-background);\n",
       "  text-decoration: none;\n",
       "}\n",
       "\n",
       "/* Span, style for the box shown on hovering the info icon */\n",
       ".sk-estimator-doc-link span {\n",
       "  display: none;\n",
       "  z-index: 9999;\n",
       "  position: relative;\n",
       "  font-weight: normal;\n",
       "  right: .2ex;\n",
       "  padding: .5ex;\n",
       "  margin: .5ex;\n",
       "  width: min-content;\n",
       "  min-width: 20ex;\n",
       "  max-width: 50ex;\n",
       "  color: var(--sklearn-color-text);\n",
       "  box-shadow: 2pt 2pt 4pt #999;\n",
       "  /* unfitted */\n",
       "  background: var(--sklearn-color-unfitted-level-0);\n",
       "  border: .5pt solid var(--sklearn-color-unfitted-level-3);\n",
       "}\n",
       "\n",
       ".sk-estimator-doc-link.fitted span {\n",
       "  /* fitted */\n",
       "  background: var(--sklearn-color-fitted-level-0);\n",
       "  border: var(--sklearn-color-fitted-level-3);\n",
       "}\n",
       "\n",
       ".sk-estimator-doc-link:hover span {\n",
       "  display: block;\n",
       "}\n",
       "\n",
       "/* \"?\"-specific style due to the `<a>` HTML tag */\n",
       "\n",
       "#sk-container-id-2 a.estimator_doc_link {\n",
       "  float: right;\n",
       "  font-size: 1rem;\n",
       "  line-height: 1em;\n",
       "  font-family: monospace;\n",
       "  background-color: var(--sklearn-color-background);\n",
       "  border-radius: 1rem;\n",
       "  height: 1rem;\n",
       "  width: 1rem;\n",
       "  text-decoration: none;\n",
       "  /* unfitted */\n",
       "  color: var(--sklearn-color-unfitted-level-1);\n",
       "  border: var(--sklearn-color-unfitted-level-1) 1pt solid;\n",
       "}\n",
       "\n",
       "#sk-container-id-2 a.estimator_doc_link.fitted {\n",
       "  /* fitted */\n",
       "  border: var(--sklearn-color-fitted-level-1) 1pt solid;\n",
       "  color: var(--sklearn-color-fitted-level-1);\n",
       "}\n",
       "\n",
       "/* On hover */\n",
       "#sk-container-id-2 a.estimator_doc_link:hover {\n",
       "  /* unfitted */\n",
       "  background-color: var(--sklearn-color-unfitted-level-3);\n",
       "  color: var(--sklearn-color-background);\n",
       "  text-decoration: none;\n",
       "}\n",
       "\n",
       "#sk-container-id-2 a.estimator_doc_link.fitted:hover {\n",
       "  /* fitted */\n",
       "  background-color: var(--sklearn-color-fitted-level-3);\n",
       "}\n",
       "</style><div id=\"sk-container-id-2\" class=\"sk-top-container\"><div class=\"sk-text-repr-fallback\"><pre>LinearRegression()</pre><b>In a Jupyter environment, please rerun this cell to show the HTML representation or trust the notebook. <br />On GitHub, the HTML representation is unable to render, please try loading this page with nbviewer.org.</b></div><div class=\"sk-container\" hidden><div class=\"sk-item\"><div class=\"sk-estimator fitted sk-toggleable\"><input class=\"sk-toggleable__control sk-hidden--visually\" id=\"sk-estimator-id-2\" type=\"checkbox\" checked><label for=\"sk-estimator-id-2\" class=\"sk-toggleable__label fitted sk-toggleable__label-arrow fitted\">&nbsp;&nbsp;LinearRegression<a class=\"sk-estimator-doc-link fitted\" rel=\"noreferrer\" target=\"_blank\" href=\"https://scikit-learn.org/1.4/modules/generated/sklearn.linear_model.LinearRegression.html\">?<span>Documentation for LinearRegression</span></a><span class=\"sk-estimator-doc-link fitted\">i<span>Fitted</span></span></label><div class=\"sk-toggleable__content fitted\"><pre>LinearRegression()</pre></div> </div></div></div></div>"
      ],
      "text/plain": [
       "LinearRegression()"
      ]
     },
     "execution_count": 175,
     "metadata": {},
     "output_type": "execute_result"
    }
   ],
   "source": [
    "lr.fit(X_train, y_train)"
   ]
  },
  {
   "cell_type": "markdown",
   "id": "35928d6a-56c8-4cce-bc08-db42ef2deecb",
   "metadata": {},
   "source": [
    "****Score of the Model****"
   ]
  },
  {
   "cell_type": "code",
   "execution_count": 177,
   "id": "aeaa4b10-70c4-40f3-8234-0d283aa77fcb",
   "metadata": {},
   "outputs": [
    {
     "name": "stdout",
     "output_type": "stream",
     "text": [
      "Accuracy score of our model is :  0.001097768522267395\n"
     ]
    }
   ],
   "source": [
    "print(\"Accuracy score of our model is : \",lr.score(X_train,y_train))"
   ]
  },
  {
   "cell_type": "markdown",
   "id": "30a73f50-426d-487c-8e7a-8729db6bca11",
   "metadata": {},
   "source": [
    "****Make Prediction with Test data****"
   ]
  },
  {
   "cell_type": "code",
   "execution_count": 179,
   "id": "26192462-1b9f-47da-96bd-3fe6709ab539",
   "metadata": {},
   "outputs": [],
   "source": [
    "y_pred = lr.predict(X_test)"
   ]
  },
  {
   "cell_type": "markdown",
   "id": "4c3c3df6-cfb0-4e0e-ac17-4e07dd223aaf",
   "metadata": {},
   "source": [
    "****Check the mean absolute error, mean square error****"
   ]
  },
  {
   "cell_type": "code",
   "execution_count": 181,
   "id": "4c2bed41-7927-4af9-b926-0983fc17f2af",
   "metadata": {},
   "outputs": [],
   "source": [
    "from sklearn import metrics"
   ]
  },
  {
   "cell_type": "code",
   "execution_count": 183,
   "id": "83ac91c0-a83d-42a7-ac4a-6a6de063456e",
   "metadata": {},
   "outputs": [
    {
     "data": {
      "text/plain": [
       "6.050716286393594"
      ]
     },
     "execution_count": 183,
     "metadata": {},
     "output_type": "execute_result"
    }
   ],
   "source": [
    "from sklearn.metrics import mean_absolute_error\n",
    "mean_absolute_error(y_test, y_pred)"
   ]
  },
  {
   "cell_type": "code",
   "execution_count": 185,
   "id": "e8db3899-bb98-4a7c-8d90-f34e2974656e",
   "metadata": {},
   "outputs": [
    {
     "data": {
      "text/plain": [
       "9.953091816873997"
      ]
     },
     "execution_count": 185,
     "metadata": {},
     "output_type": "execute_result"
    }
   ],
   "source": [
    "metrics.mean_squared_error(y_test, y_pred,squared = False)\n"
   ]
  },
  {
   "cell_type": "code",
   "execution_count": null,
   "id": "76f09075-79b0-4d5a-bf73-63b231c2aeeb",
   "metadata": {},
   "outputs": [],
   "source": [
    "#### Gradient"
   ]
  },
  {
   "cell_type": "markdown",
   "id": "c6fbbe38-9d1e-4437-954e-3627d5d37752",
   "metadata": {},
   "source": [
    "#### Predicting the price and deploying the model using gradio"
   ]
  },
  {
   "cell_type": "code",
   "execution_count": 187,
   "id": "f9a81de2-2b19-4114-b85d-62440da98028",
   "metadata": {},
   "outputs": [],
   "source": [
    "import gradio as gr"
   ]
  },
  {
   "cell_type": "code",
   "execution_count": 231,
   "id": "e2a7d960-85cb-4d1e-9287-0c9108778c58",
   "metadata": {},
   "outputs": [],
   "source": [
    "USD_TO_INR = 82\n",
    "\n",
    "def predict_fare(passenger_count, distance_km, pickup_hour, day_of_week):\n",
    "     \n",
    "    features = pd.DataFrame({\n",
    "        'passenger_count': [passenger_count],\n",
    "        'distance_km': [distance_km],\n",
    "        'pickup_hour': [pickup_hour],\n",
    "        'day_of_week': [day_of_week]\n",
    "     })\n",
    "\n",
    "    predicted_price = lr.predict(features)\n",
    "\n",
    "    predicted_price_inr = predicted_price[0] * USD_TO_INR\n",
    "    return f\"₹{round(predicted_price_inr, 2)}\"\n",
    "\n"
   ]
  },
  {
   "cell_type": "code",
   "execution_count": 233,
   "id": "3644dc0c-5527-42dc-a631-2d673cd98d73",
   "metadata": {},
   "outputs": [],
   "source": [
    "inputs = [\n",
    "\n",
    "    gr.Number(label=\"Passenger Count\"),\n",
    "    gr.Number(label=\"Distance (in km)\"),\n",
    "    gr.Number(label=\"Pickup Hour (0-23)\"),\n",
    "    gr.Number(label=\"Day of Week (0=Monday, 6=Sunday)\")\n",
    "]\n",
    "\n",
    "output = gr.Textbox(label=\"Predicted price  (in INR)\")"
   ]
  },
  {
   "cell_type": "code",
   "execution_count": 235,
   "id": "06f00bc0-6052-4b44-92e9-a242b040be2b",
   "metadata": {},
   "outputs": [],
   "source": [
    "\n",
    "app = gr.Interface(\n",
    "    fn=predict_fare, \n",
    "    inputs=inputs, \n",
    "    outputs=output,\n",
    "    title=\"Uber Price Predictor\",\n",
    "    description=\"Enter the  details to predict the  price.\"\n",
    ")"
   ]
  },
  {
   "cell_type": "code",
   "execution_count": 237,
   "id": "687ee000-9367-4a9f-a7cd-014a341b93f4",
   "metadata": {},
   "outputs": [
    {
     "name": "stdout",
     "output_type": "stream",
     "text": [
      "* Running on local URL:  http://127.0.0.1:7867\n",
      "\n",
      "To create a public link, set `share=True` in `launch()`.\n"
     ]
    },
    {
     "data": {
      "text/html": [
       "<div><iframe src=\"http://127.0.0.1:7867/\" width=\"100%\" height=\"500\" allow=\"autoplay; camera; microphone; clipboard-read; clipboard-write;\" frameborder=\"0\" allowfullscreen></iframe></div>"
      ],
      "text/plain": [
       "<IPython.core.display.HTML object>"
      ]
     },
     "metadata": {},
     "output_type": "display_data"
    },
    {
     "data": {
      "text/plain": []
     },
     "execution_count": 237,
     "metadata": {},
     "output_type": "execute_result"
    }
   ],
   "source": [
    "app.launch()"
   ]
  },
  {
   "cell_type": "code",
   "execution_count": null,
   "id": "059ca676-fee7-423f-9851-55fb09857510",
   "metadata": {},
   "outputs": [],
   "source": []
  }
 ],
 "metadata": {
  "kernelspec": {
   "display_name": "Python 3 (ipykernel)",
   "language": "python",
   "name": "python3"
  },
  "language_info": {
   "codemirror_mode": {
    "name": "ipython",
    "version": 3
   },
   "file_extension": ".py",
   "mimetype": "text/x-python",
   "name": "python",
   "nbconvert_exporter": "python",
   "pygments_lexer": "ipython3",
   "version": "3.12.4"
  }
 },
 "nbformat": 4,
 "nbformat_minor": 5
}
